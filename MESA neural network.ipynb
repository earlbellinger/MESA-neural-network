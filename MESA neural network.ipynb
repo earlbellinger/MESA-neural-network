{
 "cells": [
  {
   "cell_type": "code",
   "execution_count": 1,
   "id": "certain-municipality",
   "metadata": {},
   "outputs": [],
   "source": [
    "import numpy as np\n",
    "import pandas as pd\n",
    "import scipy as sp\n",
    "\n",
    "import matplotlib\n",
    "import matplotlib.pyplot as plt\n",
    "\n",
    "import io\n",
    "\n",
    "from sklearn.compose import TransformedTargetRegressor\n",
    "from sklearn.pipeline import Pipeline\n",
    "from sklearn.preprocessing import RobustScaler\n",
    "from sklearn.neural_network import MLPRegressor\n",
    "\n",
    "from ipywidgets import interact, FloatSlider"
   ]
  },
  {
   "cell_type": "code",
   "execution_count": 2,
   "id": "charged-onion",
   "metadata": {},
   "outputs": [],
   "source": [
    "import os\n",
    "import seaborn as sns\n",
    "sns.set(style=\"ticks\", palette=\"muted\", rc={\"xtick.bottom\" : True, \"ytick.left\" : True})\n",
    "plt.style.use('matplotlibrc')"
   ]
  },
  {
   "cell_type": "code",
   "execution_count": 3,
   "id": "complimentary-waterproof",
   "metadata": {},
   "outputs": [],
   "source": [
    "grid_dir = 'rhoPupGrid'\n",
    "tracks = []\n",
    "for file in os.listdir(grid_dir):\n",
    "    tracks += [pd.read_table(os.path.join(grid_dir, file), sep='\\s+')]"
   ]
  },
  {
   "cell_type": "code",
   "execution_count": 4,
   "id": "arctic-lesson",
   "metadata": {},
   "outputs": [],
   "source": [
    "y_columns = ['age', 'log_Teff', 'log_L']\n",
    "X_columns = ['M', 'Y', 'Z', 'alpha_MLT']"
   ]
  },
  {
   "cell_type": "code",
   "execution_count": 5,
   "id": "infrared-novelty",
   "metadata": {},
   "outputs": [],
   "source": [
    "Xs = []\n",
    "ys = [] \n",
    "\n",
    "for track in tracks:\n",
    "    Xs += [[track.M.values[0], \n",
    "            track.Y.values[0],\n",
    "            track.Z.values[0],\n",
    "            track.alpha.values[0]]]\n",
    "    ys += [np.hstack((track.age.values, \n",
    "                      track.log_L.values, \n",
    "                      track.log_Teff.values))]\n",
    "\n",
    "Xs = np.array(Xs)\n",
    "ys = np.array(ys)"
   ]
  },
  {
   "cell_type": "code",
   "execution_count": 6,
   "id": "divine-clone",
   "metadata": {},
   "outputs": [
    {
     "data": {
      "text/plain": [
       "TransformedTargetRegressor(regressor=Pipeline(steps=[('scaler', RobustScaler()),\n",
       "                                                     ('mlp',\n",
       "                                                      MLPRegressor(hidden_layer_sizes=(20,\n",
       "                                                                                       20),\n",
       "                                                                   max_iter=20000,\n",
       "                                                                   solver='lbfgs',\n",
       "                                                                   tol=1e-09))]),\n",
       "                           transformer=RobustScaler())"
      ]
     },
     "execution_count": 6,
     "metadata": {},
     "output_type": "execute_result"
    }
   ],
   "source": [
    "ml = TransformedTargetRegressor(regressor=Pipeline(\n",
    "            [('scaler', RobustScaler()), \n",
    "             ('mlp', MLPRegressor(hidden_layer_sizes=(20, 20), \n",
    "                                  max_iter=20000, activation='relu', solver='lbfgs', tol=1e-9))]),\n",
    "         transformer=RobustScaler())\n",
    "\n",
    "ml.fit(Xs, ys)"
   ]
  },
  {
   "cell_type": "code",
   "execution_count": 7,
   "id": "third-density",
   "metadata": {},
   "outputs": [],
   "source": [
    "pred = ml.predict([Xs[0]])[0]\n",
    "ages = pred[:len(track.age.values)]\n",
    "log_Ls = pred[len(track.age.values):len(track.age.values)*2]\n",
    "log_Teffs = pred[2*len(track.age.values):]"
   ]
  },
  {
   "cell_type": "code",
   "execution_count": 8,
   "id": "necessary-turkish",
   "metadata": {},
   "outputs": [],
   "source": [
    "def plot_HR(M, Y, Z, alpha_MLT):\n",
    "    pred = ml.predict([[M, Y, Z, alpha_MLT]])[0]\n",
    "    ages = pred[:len(track.age.values)]\n",
    "    log_Ls = pred[len(track.age.values):len(track.age.values)*2]\n",
    "    log_Teffs = pred[2*len(track.age.values):]\n",
    "    \n",
    "    log_Ls = sp.interpolate.UnivariateSpline(range(len(log_Ls)), log_Ls, s=0.000001, k=2)(range(len(log_Ls)))\n",
    "    log_Teffs = sp.interpolate.UnivariateSpline(range(len(log_Teffs)), log_Teffs, s=0.000001, k=2)(range(len(log_Teffs)))\n",
    "    \n",
    "    plt.figure(figsize=(8,6))\n",
    "\n",
    "    plt.plot(log_Teffs[1:], log_Ls[1:], '-', lw=2)\n",
    "\n",
    "    plt.gca().invert_xaxis()\n",
    "    plt.xlabel(r'$\\log\\;T_{\\rm{eff}}/\\rm{K}$')\n",
    "    plt.ylabel(r'$\\log\\;L/\\rm{L}_\\odot$')\n",
    "\n",
    "    plt.grid()\n",
    "    plt.show()"
   ]
  },
  {
   "cell_type": "code",
   "execution_count": 9,
   "id": "caring-banner",
   "metadata": {},
   "outputs": [
    {
     "data": {
      "image/png": "[encoded data removed]",
      "text/plain": [
       "<Figure size 576x432 with 1 Axes>"
      ]
     },
     "metadata": {},
     "output_type": "display_data"
    }
   ],
   "source": [
    "plot_HR(*Xs.mean(axis=0))"
   ]
  },
  {
   "cell_type": "code",
   "execution_count": 10,
   "id": "isolated-spokesman",
   "metadata": {},
   "outputs": [
    {
     "data": {
      "application/vnd.jupyter.widget-view+json": {
       "model_id": "216b391564784c1b990df85ad2bd676e",
       "version_major": 2,
       "version_minor": 0
      },
      "text/plain": [
       "interactive(children=(FloatSlider(value=2.0011742440944893, description='M', max=2.197791, min=1.804041, step=…"
      ]
     },
     "metadata": {},
     "output_type": "display_data"
    }
   ],
   "source": [
    "interact(plot_HR, \n",
    "         M=FloatSlider(min=Xs.min(axis=0)[0],         max=Xs.max(axis=0)[0], step=0.01,   value=Xs.mean(axis=0)[0], \n",
    "                       continuous_update=True),\n",
    "         Y=FloatSlider(min=Xs.min(axis=0)[1],         max=Xs.max(axis=0)[1], step=0.001,  value=Xs.mean(axis=0)[1], \n",
    "                       continuous_update=True),\n",
    "         Z=FloatSlider(min=Xs.min(axis=0)[2],         max=Xs.max(axis=0)[2], step=0.0005, value=Xs.mean(axis=0)[2], \n",
    "                       continuous_update=True),\n",
    "         alpha_MLT=FloatSlider(min=Xs.min(axis=0)[3], max=Xs.max(axis=0)[3], step=0.01,   value=Xs.mean(axis=0)[3], \n",
    "                       continuous_update=True),\n",
    "        );"
   ]
  }
 ],
 "metadata": {
  "kernelspec": {
   "display_name": "Python 3",
   "language": "python",
   "name": "python3"
  },
  "language_info": {
   "codemirror_mode": {
    "name": "ipython",
    "version": 3
   },
   "file_extension": ".py",
   "mimetype": "text/x-python",
   "name": "python",
   "nbconvert_exporter": "python",
   "pygments_lexer": "ipython3",
   "version": "3.8.5"
  }
 },
 "nbformat": 4,
 "nbformat_minor": 5
}
